{
  "nbformat": 4,
  "nbformat_minor": 0,
  "metadata": {
    "colab": {
      "provenance": []
    },
    "kernelspec": {
      "name": "python3",
      "display_name": "Python 3"
    },
    "language_info": {
      "name": "python"
    }
  },
  "cells": [
    {
      "cell_type": "code",
      "execution_count": 10,
      "metadata": {
        "colab": {
          "base_uri": "https://localhost:8080/"
        },
        "id": "xPmn4R13l2Qk",
        "outputId": "8b81e613-d6f1-4416-e707-0556227e8090"
      },
      "outputs": [
        {
          "output_type": "stream",
          "name": "stdout",
          "text": [
            "0.1476271152496338\n"
          ]
        }
      ],
      "source": [
        "from numba import njit\n",
        "import random\n",
        "import time\n",
        "\n",
        "\n",
        "@njit\n",
        "def monte_carlo_pi(nsamples):\n",
        "    acc = 0\n",
        "    for i in range(nsamples):\n",
        "        x = random.random()\n",
        "        y = random.random()\n",
        "        if (x ** 2 + y ** 2) < 1.0:\n",
        "            acc += 1\n",
        "    return 4.0 * acc / nsamples\n",
        "start = time.time()\n",
        "monte_carlo_pi(100000)\n",
        "end = time.time()\n",
        "print(end - start)"
      ]
    },
    {
      "cell_type": "code",
      "source": [
        "import random\n",
        "import time\n",
        "\n",
        "def monte_carlo_pi_second(nsamples):\n",
        "    acc = 0\n",
        "    for i in range(nsamples):\n",
        "        x = random.random()\n",
        "        y = random.random()\n",
        "        if (x ** 2 + y ** 2) < 1.0:\n",
        "            acc += 1\n",
        "    return 4.0 * acc / nsamples\n",
        "start = time.time()\n",
        "monte_carlo_pi_second(100000)\n",
        "end = time.time()\n",
        "print(end - start)"
      ],
      "metadata": {
        "colab": {
          "base_uri": "https://localhost:8080/"
        },
        "id": "EtevRHvZmDkq",
        "outputId": "3e4d5175-6502-4f5f-8691-e1491d71e6c6"
      },
      "execution_count": 9,
      "outputs": [
        {
          "output_type": "stream",
          "name": "stdout",
          "text": [
            "0.13023877143859863\n"
          ]
        }
      ]
    },
    {
      "cell_type": "code",
      "source": [],
      "metadata": {
        "id": "rAck8VCAmtRJ"
      },
      "execution_count": null,
      "outputs": []
    }
  ]
}